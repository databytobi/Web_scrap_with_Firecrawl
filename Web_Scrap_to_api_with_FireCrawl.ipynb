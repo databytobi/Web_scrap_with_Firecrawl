{
  "nbformat": 4,
  "nbformat_minor": 0,
  "metadata": {
    "colab": {
      "provenance": []
    },
    "kernelspec": {
      "name": "python3",
      "display_name": "Python 3"
    },
    "language_info": {
      "name": "python"
    }
  },
  "cells": [
    {
      "cell_type": "markdown",
      "source": [
        " Install Firecrawl Library\n",
        "This cell installs the firecrawl library using pip. The -U flag ensures that the library is upgraded to the latest version if it's already installed. Firecrawl is a web scraping and data extraction tool."
      ],
      "metadata": {
        "id": "zZugn-JLMlx2"
      }
    },
    {
      "cell_type": "code",
      "execution_count": 1,
      "metadata": {
        "colab": {
          "base_uri": "https://localhost:8080/"
        },
        "id": "3topLcQODnOL",
        "outputId": "c1d5ad4a-981d-4222-8f81-99ed33800bf6"
      },
      "outputs": [
        {
          "output_type": "stream",
          "name": "stdout",
          "text": [
            "Collecting firecrawl\n",
            "  Downloading firecrawl-2.16.5-py3-none-any.whl.metadata (7.2 kB)\n",
            "Requirement already satisfied: requests in /usr/local/lib/python3.11/dist-packages (from firecrawl) (2.32.3)\n",
            "Collecting python-dotenv (from firecrawl)\n",
            "  Downloading python_dotenv-1.1.1-py3-none-any.whl.metadata (24 kB)\n",
            "Requirement already satisfied: websockets in /usr/local/lib/python3.11/dist-packages (from firecrawl) (15.0.1)\n",
            "Requirement already satisfied: nest-asyncio in /usr/local/lib/python3.11/dist-packages (from firecrawl) (1.6.0)\n",
            "Requirement already satisfied: pydantic in /usr/local/lib/python3.11/dist-packages (from firecrawl) (2.11.7)\n",
            "Requirement already satisfied: aiohttp in /usr/local/lib/python3.11/dist-packages (from firecrawl) (3.12.15)\n",
            "Requirement already satisfied: aiohappyeyeballs>=2.5.0 in /usr/local/lib/python3.11/dist-packages (from aiohttp->firecrawl) (2.6.1)\n",
            "Requirement already satisfied: aiosignal>=1.4.0 in /usr/local/lib/python3.11/dist-packages (from aiohttp->firecrawl) (1.4.0)\n",
            "Requirement already satisfied: attrs>=17.3.0 in /usr/local/lib/python3.11/dist-packages (from aiohttp->firecrawl) (25.3.0)\n",
            "Requirement already satisfied: frozenlist>=1.1.1 in /usr/local/lib/python3.11/dist-packages (from aiohttp->firecrawl) (1.7.0)\n",
            "Requirement already satisfied: multidict<7.0,>=4.5 in /usr/local/lib/python3.11/dist-packages (from aiohttp->firecrawl) (6.6.3)\n",
            "Requirement already satisfied: propcache>=0.2.0 in /usr/local/lib/python3.11/dist-packages (from aiohttp->firecrawl) (0.3.2)\n",
            "Requirement already satisfied: yarl<2.0,>=1.17.0 in /usr/local/lib/python3.11/dist-packages (from aiohttp->firecrawl) (1.20.1)\n",
            "Requirement already satisfied: annotated-types>=0.6.0 in /usr/local/lib/python3.11/dist-packages (from pydantic->firecrawl) (0.7.0)\n",
            "Requirement already satisfied: pydantic-core==2.33.2 in /usr/local/lib/python3.11/dist-packages (from pydantic->firecrawl) (2.33.2)\n",
            "Requirement already satisfied: typing-extensions>=4.12.2 in /usr/local/lib/python3.11/dist-packages (from pydantic->firecrawl) (4.14.1)\n",
            "Requirement already satisfied: typing-inspection>=0.4.0 in /usr/local/lib/python3.11/dist-packages (from pydantic->firecrawl) (0.4.1)\n",
            "Requirement already satisfied: charset-normalizer<4,>=2 in /usr/local/lib/python3.11/dist-packages (from requests->firecrawl) (3.4.2)\n",
            "Requirement already satisfied: idna<4,>=2.5 in /usr/local/lib/python3.11/dist-packages (from requests->firecrawl) (3.10)\n",
            "Requirement already satisfied: urllib3<3,>=1.21.1 in /usr/local/lib/python3.11/dist-packages (from requests->firecrawl) (2.5.0)\n",
            "Requirement already satisfied: certifi>=2017.4.17 in /usr/local/lib/python3.11/dist-packages (from requests->firecrawl) (2025.8.3)\n",
            "Downloading firecrawl-2.16.5-py3-none-any.whl (40 kB)\n",
            "\u001b[2K   \u001b[90m━━━━━━━━━━━━━━━━━━━━━━━━━━━━━━━━━━━━━━━━\u001b[0m \u001b[32m40.1/40.1 kB\u001b[0m \u001b[31m528.8 kB/s\u001b[0m eta \u001b[36m0:00:00\u001b[0m\n",
            "\u001b[?25hDownloading python_dotenv-1.1.1-py3-none-any.whl (20 kB)\n",
            "Installing collected packages: python-dotenv, firecrawl\n",
            "Successfully installed firecrawl-2.16.5 python-dotenv-1.1.1\n"
          ]
        }
      ],
      "source": [
        "!pip install -U firecrawl\n"
      ]
    },
    {
      "cell_type": "markdown",
      "source": [
        " Import Necessary Libraries\n",
        "This cell imports the Python libraries required for the project.\n",
        "\n",
        "os: Provides a way to interact with the operating system, used here to access environment variables.\n",
        "firecrawl: The Firecrawl library for web scraping and data extraction.\n",
        "dotenv: Used to load environment variables from a .env file (though not explicitly used in the provided code, it's imported, suggesting its potential use for API keys).\n",
        "pandas: A data manipulation and analysis library, used here to work with data in DataFrame format.\n",
        "typing: Provides support for type hints, used for better code readability and maintainability.\n",
        "pydantic: A data validation library, used to define data models and generate JSON schemas for structured data extraction.\n",
        "time: Provides time-related functions, although not used in the current code, it's imported."
      ],
      "metadata": {
        "id": "eEf2d05jMzHu"
      }
    },
    {
      "cell_type": "markdown",
      "source": [
        "Define WebsiteScraper Class\n",
        "This cell defines a Python class WebsiteScraper to encapsulate the web scraping logic using the Firecrawl library.\n",
        "\n",
        "The __init__ method initializes the FirecrawlApp with an API key obtained from the environment variables. It also initializes a default schema fields list.\n",
        "The create_dynamic_model method dynamically creates a Pydantic BaseModel class based on a list of schema fields provided. This allows for flexible data extraction based on user-defined fields.\n",
        "The create_schema_from_fields method takes the schema fields and generates a JSON schema using the dynamically created Pydantic model. This schema is used by Firecrawl for structured data extraction.\n",
        "The convert_to_table method (although not used in the subsequent cells) is intended to convert extracted data into a pandas DataFrame and return it as a string.\n",
        "The scrape_website method is the main function for scraping. It takes a website URL, a prompt for the extraction, and optional schema fields. It calls the Firecrawl extract method with the provided parameters and returns the extracted data."
      ],
      "metadata": {
        "id": "VQfXwYq2NKd-"
      }
    },
    {
      "cell_type": "code",
      "source": [
        "import os\n",
        "from firecrawl import FirecrawlApp\n",
        "from dotenv import load_dotenv\n",
        "import pandas as pd\n",
        "from typing import Dict, Any\n",
        "from pydantic import BaseModel\n",
        "import time\n",
        "\n",
        "class WebsiteScraper:\n",
        "    def __init__(self):\n",
        "        load_dotenv()\n",
        "        self.firecrawl_api_key = os.getenv(\"FIRECRAWL_API_KEY\")\n",
        "        self.app = FirecrawlApp(api_key=self.firecrawl_api_key)\n",
        "        self.schema_fields = [{\"name\": \"\", \"type\": \"str\"}]\n",
        "\n",
        "    def create_dynamic_model(self, fields):\n",
        "        \"\"\"Create a dynamic Pydantic model from schema fields.\"\"\"\n",
        "        field_annotations = {}\n",
        "        for field in fields:\n",
        "            if field[\"name\"]:\n",
        "                type_mapping = {\n",
        "                    \"str\": str,\n",
        "                    \"bool\": bool,\n",
        "                    \"int\": int,\n",
        "                    \"float\": float\n",
        "                }\n",
        "                field_annotations[field[\"name\"]] = type_mapping[field[\"type\"]]\n",
        "\n",
        "        return type(\n",
        "            \"ExtractSchema\",\n",
        "            (BaseModel,),\n",
        "            {\n",
        "                \"_annotations_\": field_annotations\n",
        "            }\n",
        "        )\n",
        "\n",
        "    def create_schema_from_fields(self, fields):\n",
        "        \"\"\"Create schema using Pydantic model.\"\"\"\n",
        "        if not any(field[\"name\"] for field in fields):\n",
        "            return None\n",
        "\n",
        "        model_class = self.create_dynamic_model(fields)\n",
        "        return model_class.model_json_schema()\n",
        "\n",
        "    def convert_to_table(self, data: Dict[str, Any]) -> str:\n",
        "        \"\"\"Convert data to a pandas DataFrame and return as string.\"\"\"\n",
        "        if not data or 'data' not in data:\n",
        "            return \"\"\n",
        "\n",
        "        df = pd.DataFrame([data['data']])\n",
        "        return df.to_string(index=False)\n",
        "\n",
        "    def scrape_website(self, website_url: str, prompt: str, schema_fields=None):\n",
        "        \"\"\"Main function to scrape website data.\"\"\"\n",
        "        if not website_url:\n",
        "            raise ValueError(\"Please provide a website URL\")\n",
        "\n",
        "        try:\n",
        "            schema = self.create_schema_from_fields(schema_fields) if schema_fields else None\n",
        "\n",
        "            extract_params = {'prompt': prompt}\n",
        "            if schema:\n",
        "                extract_params['schema'] = schema\n",
        "\n",
        "            data = self.app.extract([website_url,],\n",
        "                                    **extract_params # Pass extract_params as keyword arguments\n",
        "                                    )\n",
        "\n",
        "            return data\n",
        "\n",
        "        except Exception as e:\n",
        "            raise Exception(f\"An error occurred: {str(e)}\")"
      ],
      "metadata": {
        "id": "LUQvIgfoFOcn"
      },
      "execution_count": 13,
      "outputs": []
    },
    {
      "cell_type": "markdown",
      "source": [
        "Instantiate WebsiteScraper and Set Parameters\n",
        "This cell creates an instance of the WebsiteScraper class and sets the parameters for the web scraping task.\n",
        "\n",
        "scraper = WebsiteScraper(): Creates an object of the WebsiteScraper class.\n",
        "website_url = \"https:: Defines the URL pattern to scrape. The * indicates that Firecrawl should scrape all pages under this path.\n",
        "\n",
        "prompt = \"extract publish date, title and link of all articles related to LLMs\": Defines the prompt for the Firecrawl extraction, specifying what information to extract.\n",
        "\n",
        "schema_fields = [...]: Defines an optional list of schema fields to guide the extraction. This is commented out in the current code, meaning structured extraction with a predefined schema is not being used in this specific execution.\n",
        "\n",
        "result = scraper.scrape_website(website_url, prompt, []): Calls the scrape_website method to perform the extraction. Note that an empty list [] is passed for schema_fields, so no schema is used.\n",
        "\n",
        "print(\"Results:\\n\"): Prints a heading before displaying the results.\n",
        "print(result): Prints the raw output from the Firecrawl extraction."
      ],
      "metadata": {
        "id": "ZdgsKFZ1NYmu"
      }
    },
    {
      "cell_type": "code",
      "source": [
        "scraper = WebsiteScraper()\n",
        "\n",
        "# Get user input\n",
        "website_url = \"https://blog.dailydoseofds.com/*\"\n",
        "prompt = \"extract publish date, title and link of all articles related to LLMs\"\n",
        "\n",
        "# Optional: Add schema fields\n",
        "schema_fields = [\n",
        "    {\"name\": \"Article_title\", \"type\": \"str\"},\n",
        "    {\"name\": \"Publish_date\", \"type\": \"str\"},\n",
        "    {\"name\": \"Article_link\", \"type\": \"str\"}\n",
        "]\n",
        "\n",
        "# Get results\n",
        "result = scraper.scrape_website(website_url, prompt, [])\n",
        "print(\"Results:\\n\")\n",
        "print(result)"
      ],
      "metadata": {
        "colab": {
          "base_uri": "https://localhost:8080/"
        },
        "id": "68KTKn8PF6wP",
        "outputId": "f6f370fc-342c-4720-b654-238518908935"
      },
      "execution_count": 14,
      "outputs": [
        {
          "output_type": "stream",
          "name": "stdout",
          "text": [
            "Results:\n",
            "\n",
            "id=None status='completed' expiresAt=datetime.datetime(2025, 8, 13, 17, 10, 32, tzinfo=TzInfo(UTC)) success=True data={'articles': [{'link': 'https://blog.dailydoseofds.com/p/5-llm-fine-tuning-techniques-explained', 'title': '5 LLM Fine-tuning Techniques Explained Visually', 'publish_date': '2024-05-30'}, {'link': 'https://www.dailydoseofds.com/understanding-lora-derived-techniques-for-optimal-llm-fine-tuning/', 'title': 'Understanding LoRA-derived Techniques for Optimal LLM Fine-tuning', 'publish_date': ''}, {'link': 'https://www.dailydoseofds.com/implementing-lora-from-scratch-for-fine-tuning-llms/', 'title': 'Implementing LoRA From Scratch for Fine-tuning LLMs', 'publish_date': ''}, {'link': 'https://blog.dailydoseofds.com/p/the-utility-of-vector-databases-in', 'title': 'The Utility of Vector Databases in LLMs', 'publish_date': '2024-08-09'}, {'link': 'https://blog.dailydoseofds.com/p/generate-synthetic-datasets-with', 'title': 'Generate Synthetic Datasets with Llama3', 'publish_date': '2024-12-10'}, {'link': 'https://www.dailydoseofds.com/augmenting-llms-fine-tuning-or-rag/', 'title': 'Augmenting LLMs: Fine-Tuning or RAG?', 'publish_date': '2024-03-06'}, {'link': 'https://blog.dailydoseofds.com/p/4-stages-of-training-llms-from-scratch', 'title': '4 Stages of Training LLMs from Scratch', 'publish_date': '2025-07-21'}, {'link': 'https://blog.dailydoseofds.com/p/what-is-temperature-in-llms', 'title': 'What is Temperature in LLMs?', 'publish_date': '2024-12-16'}, {'link': 'https://blog.dailydoseofds.com/p/4-ways-to-run-llms-locally', 'title': '4 Ways to Run LLMs Locally', 'publish_date': '2025-02-10'}, {'link': 'https://blog.dailydoseofds.com/p/how-do-llms-work', 'title': 'How Do LLMs Work?', 'publish_date': '2025-07-28'}, {'link': 'https://www.dailydoseofds.com/p/4-stages-of-training-llms-from-scratch/', 'title': '4 stages of training LLMs from scratch', 'publish_date': '2025-08-13'}, {'link': 'https://blog.dailydoseofds.com/p/function-calling-and-mcp-for-llms', 'title': 'Function calling & MCP for LLMs', 'publish_date': '2025-04-19'}, {'link': 'https://blog.dailydoseofds.com/p/hands-on-build-your-reasoning-llm', 'title': '[Hands-on] Build Your Reasoning LLM', 'publish_date': '2025-04-03'}, {'link': 'https://blog.dailydoseofds.com/p/building-a-rag-app-using-llama-33', 'title': 'Building a RAG app using Llama-3.3', 'publish_date': '2024-12-07'}, {'link': 'https://blog.dailydoseofds.com/p/6-no-code-llm-agents-and-rag-builder', 'title': '6 No-code LLM, Agents, and RAG Builder Tools for AI Engineers', 'publish_date': '2025-07-04'}, {'link': 'https://blog.dailydoseofds.com/p/building-a-100-local-mini-chatgpt', 'title': 'Building a 100% Local mini-ChatGPT', 'publish_date': '2024-12-26'}, {'link': 'https://blog.dailydoseofds.com/p/compare-openai-gpt-oss-and-qwen-3', 'title': 'Compare OpenAI gpt-oss and Qwen 3 on Maths & Reasoning', 'publish_date': '2023-08-06'}, {'link': 'https://blog.dailydoseofds.com/p/build-a-multimodal-agentic-rag', 'title': 'Build a Multimodal Agentic RAG', 'publish_date': '2023-08-05'}, {'link': 'https://blog.dailydoseofds.com/p/make-rag-systems-32x-memory-efficient', 'title': 'Make RAG systems 32x Memory Efficient!', 'publish_date': '2023-08-04'}, {'link': 'https://blog.dailydoseofds.com/p/building-trustworthy-agenticrag-workflows', 'title': 'Building Trustworthy Agentic/RAG Workflows', 'publish_date': '2023-08-01'}, {'link': 'https://blog.dailydoseofds.com/p/build-an-ultimate-ai-assistant-using', 'title': 'Build an Ultimate AI Assistant using 6 MCP servers', 'publish_date': '2023-07-29'}, {'link': 'https://blog.dailydoseofds.com/p/specify-mcp-servers-in-llm-calls', 'title': 'Specify MCP Servers in LLM Calls', 'publish_date': '2025-06-09'}, {'link': 'https://blog.dailydoseofds.com/p/sub-agents-in-claude-code', 'title': 'Sub-agents in Claude Code', 'publish_date': '2025-08-08'}, {'link': 'https://blog.dailydoseofds.com/p/build-and-deploy-agents-to-production', 'title': 'Build and Deploy Agents to Production', 'publish_date': '2025-08-07'}, {'link': 'https://blog.dailydoseofds.com/p/build-a-multimodal-agentic-rag', 'title': 'Build a Multimodal Agentic RAG', 'publish_date': '2025-08-05'}, {'link': 'https://blog.dailydoseofds.com/p/build-the-ultimate-mcp-server-for', 'title': 'Build the Ultimate MCP Server for Multimodal AI', 'publish_date': '2025-07-24'}, {'link': 'https://blog.dailydoseofds.com/p/build-a-multi-agent-content-creation', 'title': 'Build a Multi-agent Content Creation System', 'publish_date': '2025-07-16'}, {'link': 'https://blog.dailydoseofds.com/p/a-mini-crash-course-on-ai-agents', 'title': 'A Mini Crash Course on AI Agents!', 'publish_date': '2025-07-14'}, {'link': 'https://blog.dailydoseofds.com/p/package-aiml-projects-with-kitops', 'title': 'Package AI/ML Projects with KitOps MCP Server', 'publish_date': '2025-06-24'}, {'link': 'https://blog.dailydoseofds.com/p/an-mcp-powered-voice-agent', 'title': 'An MCP-powered Voice Agent', 'publish_date': '2025-06-03'}, {'link': 'https://blog.dailydoseofds.com/p/top-4-llm-fine-tuning-frameworks', 'title': 'Top 4 LLM Fine-tuning Frameworks!', 'publish_date': '2025-07-11'}, {'link': 'https://www.dailydoseofds.com/16-techniques-to-supercharge-and-build-real-world-rag-systems-part-1/', 'title': '16 techniques to build real-world RAG systems', 'publish_date': '2025-08-13'}, {'link': 'https://blog.dailydoseofds.com/p/a-hands-on-guide-to-llm-arena-as', 'title': 'A Hands-on Guide to LLM Arena-as-a-Judge', 'publish_date': '2025-07-30'}, {'link': 'https://blog.dailydoseofds.com/p/compare-openai-gpt-oss-and-qwen-3', 'title': 'Compare OpenAI gpt-oss and Qwen 3 on Maths & Reasoning', 'publish_date': '2025-08-06'}, {'link': 'https://blog.dailydoseofds.com/p/building-a-browser-automation-agent', 'title': 'Building a Browser Automation Agent', 'publish_date': '2025-08-11'}, {'link': 'https://blog.dailydoseofds.com/p/make-rag-systems-32x-memory-efficient', 'title': 'Make RAG systems 32x Memory Efficient!', 'publish_date': '2025-08-04'}, {'link': 'https://blog.dailydoseofds.com/p/building-trustworthy-agenticrag-workflows', 'title': 'Building Trustworthy Agentic/RAG Workflows', 'publish_date': '2025-08-01'}, {'link': 'https://blog.dailydoseofds.com/p/build-an-ultimate-ai-assistant-using', 'title': 'Build an Ultimate AI Assistant using 6 MCP servers', 'publish_date': '2025-07-29'}, {'link': 'https://blog.dailydoseofds.com/p/compare-qwen-3-coder-vs-sonnet-4', 'title': 'Compare Qwen 3 Coder vs. Sonnet 4 for Code Generation', 'publish_date': '2025-07-25'}, {'link': 'https://blog.dailydoseofds.com/p/hands-on-multimodal-rag-over-complex', 'title': '[Hands-on] Multimodal RAG Over Complex Webpages', 'publish_date': '2025-03-11'}, {'link': 'https://blog.dailydoseofds.com/p/compare-openai-gpt-oss-and-qwen-3', 'title': '[Compare OpenAI gpt-oss and Qwen 3 on Maths & Reasoning', 'publish_date': '2025-08-06'}, {'link': 'https://blog.dailydoseofds.com/p/build-a-multimodal-agentic-rag', 'title': '[Build a Multimodal Agentic RAG]', 'publish_date': '2025-08-05'}, {'link': 'https://blog.dailydoseofds.com/p/make-rag-systems-32x-memory-efficient', 'title': '[Make RAG systems 32x Memory Efficient!]', 'publish_date': '2025-08-04'}, {'link': 'https://blog.dailydoseofds.com/p/pytorch-models-are-not-entirely-deployment', 'title': 'PyTorch Models Are Not Entirely Deployment-Friendly', 'publish_date': '2024-01-31'}, {'link': 'https://blog.dailydoseofds.com/p/build-your-own-mcp-powered-chatgpt', 'title': 'Build Your Own MCP-powered ChatGPT App', 'publish_date': '2025-05-03'}, {'link': 'https://blog.dailydoseofds.com/p/prompting-vs-rag-vs-finetuning', 'title': 'Prompting vs. RAG vs. Finetuning', 'publish_date': '2024-11-08'}, {'link': 'https://blog.dailydoseofds.com/p/5-chunking-strategies-for-rag', 'title': '5 Chunking Strategies For RAG', 'publish_date': '2024-10-18'}, {'link': 'https://blog.dailydoseofds.com/p/9-mcp-projects-for-ai-engineers', 'title': '9 MCP Projects for AI Engineers', 'publish_date': '2024-06-10'}, {'link': 'https://blog.dailydoseofds.com/p/a-crash-course-on-building-rag-systems-c92', 'title': 'A Crash Course on Building RAG Systems – Part 2', 'publish_date': '2024-11-09'}, {'link': 'https://blog.dailydoseofds.com/p/is-your-model-data-deficient', 'title': 'Is Your Model Data Deficient?', 'publish_date': '2024-03-25'}, {'link': 'https://www.dailydoseofds.com/augmenting-llms-fine-tuning-or-rag/', 'title': 'Augmenting LLMs: Fine-Tuning or RAG?', 'publish_date': ''}, {'link': 'https://blog.dailydoseofds.com/p/federated-learning-an-overlooked', 'title': 'Federated Learning: An Overlooked ML Technique That Deserves More Attention', 'publish_date': '2023-11-13'}, {'link': 'https://blog.dailydoseofds.com/p/guardrails-for-ai-agents', 'title': 'Guardrails for AI Agents', 'publish_date': '2025-04-10'}, {'link': 'https://blog.dailydoseofds.com/p/test-ai-agents-at-scale-with-maxim', 'title': 'Test AI Agents at Scale With Maxim', 'publish_date': '2025-02-06'}, {'link': 'https://blog.dailydoseofds.com/p/9-rag-llm-and-ai-agent-cheat-sheets', 'title': '9 RAG, LLM, and AI Agent Cheat Sheets', 'publish_date': '2025-04-01'}, {'link': 'https://www.dailydoseofds.com/p/5-llm-fine-tuning-techniques/', 'title': '5 techniques to fine-tune LLMs', 'publish_date': '2025-04-01'}, {'link': 'https://www.dailydoseofds.com/p/kv-caching-in-llms-explained-visually/', 'title': 'KV caching', 'publish_date': '2025-04-01'}, {'link': 'https://www.dailydoseofds.com/a-crash-course-on-building-rag-systems-part-3-with-implementation/', 'title': 'A Crash Course on Building RAG Systems – Part 3', 'publish_date': '2024-11-19'}, {'link': 'https://blog.dailydoseofds.com/p/hands-on-building-a-llama-ocr-app', 'title': '[Hands-on] Building a Llama-OCR app', 'publish_date': '2024-12-03'}, {'link': 'https://www.dailydoseofds.com/a-crash-course-on-building-rag-systems-part-1-with-implementations/', 'title': 'RAG crash course Part 1', 'publish_date': '2024-12-03'}, {'link': 'https://www.dailydoseofds.com/a-crash-course-on-building-rag-systems-part-2-with-implementations/', 'title': 'RAG crash course Part 2', 'publish_date': '2024-12-03'}, {'link': 'https://www.dailydoseofds.com/a-crash-course-on-building-rag-systems-part-3-with-implementation/', 'title': 'RAG crash course Part 3', 'publish_date': '2024-12-03'}, {'link': 'https://www.dailydoseofds.com/a-crash-course-on-building-rag-systems-part-4-with-implementation/', 'title': 'RAG crash course Part 4', 'publish_date': '2024-12-03'}, {'link': 'https://blog.dailydoseofds.com/p/building-a-multi-agent-internet-research', 'title': 'Building a Multi-agent Internet Research Assistant', 'publish_date': '2024-10-30'}, {'link': 'https://www.comet.com/docs/opik/evaluation/metrics/g_eval', 'title': 'Create eval metrics for LLM Apps in pure English', 'publish_date': '2025-08-13'}, {'link': 'https://github.com/i-am-bee/acp', 'title': 'Agent communication protocol (ACP)', 'publish_date': '2025-08-13'}, {'link': 'https://blog.dailydoseofds.com/p/build-a-multi-agent-research-assistant', 'title': 'Build A Multi-agent Research Assistant With SwarmZero', 'publish_date': '2024-11-12'}, {'link': 'https://blog.dailydoseofds.com/p/10-mcp-ai-agents-and-rag-projects', 'title': '10 MCP, AI Agents, and RAG projects for AI Engineers', 'publish_date': '2025-04-14'}, {'link': 'https://www.dailydoseofds.com/p/mcp-powered-agentic-rag/', 'title': 'MCP-powered Agentic RAG', 'publish_date': '2025-04-14'}, {'link': 'https://www.dailydoseofds.com/p/rag-over-audio-files/', 'title': 'RAG over audio', 'publish_date': '2025-04-14'}, {'link': 'https://www.dailydoseofds.com/p/hands-on-building-an-mcp-server/', 'title': 'Build a local MCP server', 'publish_date': '2025-04-14'}, {'link': 'https://github.com/patchy631/ai-engineering-hub/tree/main/llama-4-rag', 'title': 'RAG powered by Llama 4', 'publish_date': '2025-04-14'}, {'link': 'https://www.dailydoseofds.com/p/multimodal-rag-using-deepseeks-janus/', 'title': 'Multimodal RAG powered by DeepSeek Janus', 'publish_date': '2025-04-14'}, {'link': 'https://www.dailydoseofds.com/p/building-a-100-local-mini-chatgpt/', 'title': 'A mini-ChatGPT using DeepSeek-R1', 'publish_date': '2025-04-14'}, {'link': 'https://www.dailydoseofds.com/p/corrective-rag-agentic-workflow/', 'title': 'Corrective RAG', 'publish_date': '2025-04-14'}, {'link': 'https://www.dailydoseofds.com/p/build-a-reasoning-model-like-deepseek-r1/', 'title': 'Build your reasoning model', 'publish_date': '2025-04-14'}, {'link': 'https://github.com/patchy631/ai-engineering-hub/tree/main/DeepSeek-finetuning', 'title': 'Fine-tune DeepSeek-R1', 'publish_date': '2025-04-14'}, {'link': 'https://blog.dailydoseofds.com/p/transfer-learning-vs-fine-tuning', 'title': 'Transfer Learning vs. Fine-tuning vs. Multitask Learning vs. Federated Learning', 'publish_date': '2023-11-07'}]} error=None warning=None sources=None\n"
          ]
        }
      ]
    },
    {
      "cell_type": "markdown",
      "source": [
        "Define Pydantic Model for Schema\n",
        "This cell defines a Pydantic BaseModel called ExtractSchema. This model represents the structure of the data that is expected to be extracted from the website when using a schema.\n",
        "\n",
        "mission: str: Defines a field named mission with a string type.\n",
        "supports_sso: bool: Defines a field named supports_sso with a boolean type.\n",
        "is_open_source: bool: Defines a field named is_open_source with a boolean type.\n",
        "is_in_yc: bool: Defines a field named is_in_yc with a boolean type."
      ],
      "metadata": {
        "id": "udrpo6pTNtHq"
      }
    },
    {
      "cell_type": "code",
      "source": [
        "class ExtractSchema(BaseModel):\n",
        "    mission: str\n",
        "    supports_sso: bool\n",
        "    is_open_source: bool\n",
        "    is_in_yc: bool"
      ],
      "metadata": {
        "id": "uuNJKY_xIhEi"
      },
      "execution_count": 22,
      "outputs": []
    },
    {
      "cell_type": "markdown",
      "source": [
        "Generate JSON Schema from Pydantic Model\n",
        "This cell uses the Pydantic BaseModel defined in the previous cell (ExtractSchema) to generate its corresponding JSON schema. The model_json_schema() method is called on the ExtractSchema class to produce the schema, which is then printed to the output.\n",
        "\n",
        "This JSON schema can be used by Firecrawl to ensure that the extracted data conforms to a specific structure."
      ],
      "metadata": {
        "id": "_pMES-DDN4w9"
      }
    },
    {
      "cell_type": "code",
      "source": [
        "ExtractSchema.model_json_schema()"
      ],
      "metadata": {
        "colab": {
          "base_uri": "https://localhost:8080/"
        },
        "id": "7dQXi5T7Iw_a",
        "outputId": "14efb477-f030-41a9-d15a-109a464d0f2b"
      },
      "execution_count": 23,
      "outputs": [
        {
          "output_type": "execute_result",
          "data": {
            "text/plain": [
              "{'properties': {'mission': {'title': 'Mission', 'type': 'string'},\n",
              "  'supports_sso': {'title': 'Supports Sso', 'type': 'boolean'},\n",
              "  'is_open_source': {'title': 'Is Open Source', 'type': 'boolean'},\n",
              "  'is_in_yc': {'title': 'Is In Yc', 'type': 'boolean'}},\n",
              " 'required': ['mission', 'supports_sso', 'is_open_source', 'is_in_yc'],\n",
              " 'title': 'ExtractSchema',\n",
              " 'type': 'object'}"
            ]
          },
          "metadata": {},
          "execution_count": 23
        }
      ]
    },
    {
      "cell_type": "markdown",
      "source": [
        "Attempt to Create Schema from Empty Fields.\n",
        "\n",
        "This cell attempts to use the create_schema_from_fields method of the WebsiteScraper class with an empty list schema_fields. This is likely a test to see how the method handles the case where no schema fields are provided. The output shows that an empty schema with only properties, title, and type is generated, which is the expected behavior when no specific fields are defined.\n",
        "\n"
      ],
      "metadata": {
        "id": "GNM86hFYOHY_"
      }
    },
    {
      "cell_type": "code",
      "source": [
        "scraper.create_schema_from_fields(schema_fields)"
      ],
      "metadata": {
        "colab": {
          "base_uri": "https://localhost:8080/"
        },
        "id": "R9ZXRvVkI8je",
        "outputId": "84430b24-bae3-4645-a3fe-2e7cca0908a8"
      },
      "execution_count": 24,
      "outputs": [
        {
          "output_type": "execute_result",
          "data": {
            "text/plain": [
              "{'properties': {}, 'title': 'ExtractSchema', 'type': 'object'}"
            ]
          },
          "metadata": {},
          "execution_count": 24
        }
      ]
    },
    {
      "cell_type": "markdown",
      "source": [
        "Perform Extraction with Schema (Corrected).\n",
        "\n",
        "This cell demonstrates how to perform a web extraction using the FirecrawlApp directly, incorporating a Pydantic schema for structured output.\n",
        "\n",
        "app = FirecrawlApp(api_key=os.getenv(\"FIRECRAWL_API_KEY\")): Initializes the FirecrawlApp.\n",
        "\n",
        "class ExtractSchema(BaseModel): ...: Redefines the ExtractSchema Pydantic model with fields relevant to the desired extraction (article title, publish date, link).\n",
        "\n",
        "data = app.extract(...): Calls the app.extract method.\n",
        "urls=[\"https:]: Provides the URL pattern in a list as the first argument.\n",
        "prompt='...': Provides the extraction prompt as a keyword argument.\n",
        "\n",
        "schema=ExtractSchema.model_json_schema(): Provides the JSON schema generated from the Pydantic model as a keyword argument.\n",
        "This cell shows the corrected way to pass parameters to the app.extract method for structured extraction.\n",
        "print(data): Prints the extracted data, which is now structured according to the defined schema."
      ],
      "metadata": {
        "id": "T6HV9GQPOUOs"
      }
    },
    {
      "cell_type": "code",
      "source": [
        "from firecrawl import FirecrawlApp\n",
        "from pydantic import BaseModel, Field\n",
        "import os\n",
        "\n",
        "# Initialize the FirecrawlApp with your API key\n",
        "app = FirecrawlApp(api_key=os.getenv(\"FIRECRAWL_API_KEY\"))\n",
        "\n",
        "class ExtractSchema(BaseModel):\n",
        "    article_title: str\n",
        "    publish_date: str\n",
        "    article_link: str\n",
        "\n",
        "data = app.extract(\n",
        "    urls=[\"https://blog.dailydoseofds.com/*\"], # Pass URL in a list as the first argument\n",
        "    prompt='Extract the article title, publish date, and article link of all articles related to LLMs.',\n",
        "    schema=ExtractSchema.model_json_schema(), # Pass schema as a keyword argument\n",
        ")\n",
        "print(data)"
      ],
      "metadata": {
        "colab": {
          "base_uri": "https://localhost:8080/"
        },
        "id": "kgi7h6d5JCh7",
        "outputId": "ef2f9852-2013-4bd5-d258-9eb150f6b842"
      },
      "execution_count": 26,
      "outputs": [
        {
          "output_type": "stream",
          "name": "stdout",
          "text": [
            "id=None status='completed' expiresAt=datetime.datetime(2025, 8, 13, 17, 20, 13, tzinfo=TzInfo(UTC)) success=True data={'article_link': 'https://blog.dailydoseofds.com/p/5-llm-fine-tuning-techniques-explained', 'publish_date': 'May 30, 2024', 'article_title': '5 LLM Fine-tuning Techniques Explained Visually'} error=None warning=None sources=None\n"
          ]
        }
      ]
    },
    {
      "cell_type": "markdown",
      "source": [
        "Display Results in Markdown Table.\n",
        "This cell takes the result object obtained from the web scraping (specifically from Cell 4) and displays the extracted data in a markdown table format using pandas.\n",
        "\n",
        "It checks if result and result.data exist and if result.data contains an 'articles' key (which is the case when scraping multiple articles). If so, it creates a DataFrame from the list of articles.\n",
        "\n",
        "It also includes a condition to handle cases where the result.data is a single dictionary (e.g., from scraping a single URL), creating a DataFrame with a single row in that case.\n",
        "\n",
        "df.to_markdown(index=False): Converts the pandas DataFrame to a markdown formatted string. index=False prevents the DataFrame index from being included in the output.\n",
        "\n",
        "print(...): Prints the markdown table to the console."
      ],
      "metadata": {
        "id": "Lqg7o06wOkpF"
      }
    },
    {
      "cell_type": "code",
      "metadata": {
        "colab": {
          "base_uri": "https://localhost:8080/"
        },
        "id": "c6b25f34",
        "outputId": "3c27b093-fae8-4e20-bb79-c5408bcae942"
      },
      "source": [
        "if result and result.data and 'articles' in result.data:\n",
        "    df = pd.DataFrame(result.data['articles'])\n",
        "    print(df.to_markdown(index=False))\n",
        "elif result and result.data:\n",
        "    # Handle the case where the data is a single dictionary (from a single URL extraction)\n",
        "    df = pd.DataFrame([result.data])\n",
        "    print(df.to_markdown(index=False))\n",
        "else:\n",
        "    print(\"No data to display in markdown.\")"
      ],
      "execution_count": 27,
      "outputs": [
        {
          "output_type": "stream",
          "name": "stdout",
          "text": [
            "| link                                                                                                | title                                                                           | publish_date   |\n",
            "|:----------------------------------------------------------------------------------------------------|:--------------------------------------------------------------------------------|:---------------|\n",
            "| https://blog.dailydoseofds.com/p/5-llm-fine-tuning-techniques-explained                             | 5 LLM Fine-tuning Techniques Explained Visually                                 | 2024-05-30     |\n",
            "| https://www.dailydoseofds.com/understanding-lora-derived-techniques-for-optimal-llm-fine-tuning/    | Understanding LoRA-derived Techniques for Optimal LLM Fine-tuning               |                |\n",
            "| https://www.dailydoseofds.com/implementing-lora-from-scratch-for-fine-tuning-llms/                  | Implementing LoRA From Scratch for Fine-tuning LLMs                             |                |\n",
            "| https://blog.dailydoseofds.com/p/the-utility-of-vector-databases-in                                 | The Utility of Vector Databases in LLMs                                         | 2024-08-09     |\n",
            "| https://blog.dailydoseofds.com/p/generate-synthetic-datasets-with                                   | Generate Synthetic Datasets with Llama3                                         | 2024-12-10     |\n",
            "| https://www.dailydoseofds.com/augmenting-llms-fine-tuning-or-rag/                                   | Augmenting LLMs: Fine-Tuning or RAG?                                            | 2024-03-06     |\n",
            "| https://blog.dailydoseofds.com/p/4-stages-of-training-llms-from-scratch                             | 4 Stages of Training LLMs from Scratch                                          | 2025-07-21     |\n",
            "| https://blog.dailydoseofds.com/p/what-is-temperature-in-llms                                        | What is Temperature in LLMs?                                                    | 2024-12-16     |\n",
            "| https://blog.dailydoseofds.com/p/4-ways-to-run-llms-locally                                         | 4 Ways to Run LLMs Locally                                                      | 2025-02-10     |\n",
            "| https://blog.dailydoseofds.com/p/how-do-llms-work                                                   | How Do LLMs Work?                                                               | 2025-07-28     |\n",
            "| https://www.dailydoseofds.com/p/4-stages-of-training-llms-from-scratch/                             | 4 stages of training LLMs from scratch                                          | 2025-08-13     |\n",
            "| https://blog.dailydoseofds.com/p/function-calling-and-mcp-for-llms                                  | Function calling & MCP for LLMs                                                 | 2025-04-19     |\n",
            "| https://blog.dailydoseofds.com/p/hands-on-build-your-reasoning-llm                                  | [Hands-on] Build Your Reasoning LLM                                             | 2025-04-03     |\n",
            "| https://blog.dailydoseofds.com/p/building-a-rag-app-using-llama-33                                  | Building a RAG app using Llama-3.3                                              | 2024-12-07     |\n",
            "| https://blog.dailydoseofds.com/p/6-no-code-llm-agents-and-rag-builder                               | 6 No-code LLM, Agents, and RAG Builder Tools for AI Engineers                   | 2025-07-04     |\n",
            "| https://blog.dailydoseofds.com/p/building-a-100-local-mini-chatgpt                                  | Building a 100% Local mini-ChatGPT                                              | 2024-12-26     |\n",
            "| https://blog.dailydoseofds.com/p/compare-openai-gpt-oss-and-qwen-3                                  | Compare OpenAI gpt-oss and Qwen 3 on Maths & Reasoning                          | 2023-08-06     |\n",
            "| https://blog.dailydoseofds.com/p/build-a-multimodal-agentic-rag                                     | Build a Multimodal Agentic RAG                                                  | 2023-08-05     |\n",
            "| https://blog.dailydoseofds.com/p/make-rag-systems-32x-memory-efficient                              | Make RAG systems 32x Memory Efficient!                                          | 2023-08-04     |\n",
            "| https://blog.dailydoseofds.com/p/building-trustworthy-agenticrag-workflows                          | Building Trustworthy Agentic/RAG Workflows                                      | 2023-08-01     |\n",
            "| https://blog.dailydoseofds.com/p/build-an-ultimate-ai-assistant-using                               | Build an Ultimate AI Assistant using 6 MCP servers                              | 2023-07-29     |\n",
            "| https://blog.dailydoseofds.com/p/specify-mcp-servers-in-llm-calls                                   | Specify MCP Servers in LLM Calls                                                | 2025-06-09     |\n",
            "| https://blog.dailydoseofds.com/p/sub-agents-in-claude-code                                          | Sub-agents in Claude Code                                                       | 2025-08-08     |\n",
            "| https://blog.dailydoseofds.com/p/build-and-deploy-agents-to-production                              | Build and Deploy Agents to Production                                           | 2025-08-07     |\n",
            "| https://blog.dailydoseofds.com/p/build-a-multimodal-agentic-rag                                     | Build a Multimodal Agentic RAG                                                  | 2025-08-05     |\n",
            "| https://blog.dailydoseofds.com/p/build-the-ultimate-mcp-server-for                                  | Build the Ultimate MCP Server for Multimodal AI                                 | 2025-07-24     |\n",
            "| https://blog.dailydoseofds.com/p/build-a-multi-agent-content-creation                               | Build a Multi-agent Content Creation System                                     | 2025-07-16     |\n",
            "| https://blog.dailydoseofds.com/p/a-mini-crash-course-on-ai-agents                                   | A Mini Crash Course on AI Agents!                                               | 2025-07-14     |\n",
            "| https://blog.dailydoseofds.com/p/package-aiml-projects-with-kitops                                  | Package AI/ML Projects with KitOps MCP Server                                   | 2025-06-24     |\n",
            "| https://blog.dailydoseofds.com/p/an-mcp-powered-voice-agent                                         | An MCP-powered Voice Agent                                                      | 2025-06-03     |\n",
            "| https://blog.dailydoseofds.com/p/top-4-llm-fine-tuning-frameworks                                   | Top 4 LLM Fine-tuning Frameworks!                                               | 2025-07-11     |\n",
            "| https://www.dailydoseofds.com/16-techniques-to-supercharge-and-build-real-world-rag-systems-part-1/ | 16 techniques to build real-world RAG systems                                   | 2025-08-13     |\n",
            "| https://blog.dailydoseofds.com/p/a-hands-on-guide-to-llm-arena-as                                   | A Hands-on Guide to LLM Arena-as-a-Judge                                        | 2025-07-30     |\n",
            "| https://blog.dailydoseofds.com/p/compare-openai-gpt-oss-and-qwen-3                                  | Compare OpenAI gpt-oss and Qwen 3 on Maths & Reasoning                          | 2025-08-06     |\n",
            "| https://blog.dailydoseofds.com/p/building-a-browser-automation-agent                                | Building a Browser Automation Agent                                             | 2025-08-11     |\n",
            "| https://blog.dailydoseofds.com/p/make-rag-systems-32x-memory-efficient                              | Make RAG systems 32x Memory Efficient!                                          | 2025-08-04     |\n",
            "| https://blog.dailydoseofds.com/p/building-trustworthy-agenticrag-workflows                          | Building Trustworthy Agentic/RAG Workflows                                      | 2025-08-01     |\n",
            "| https://blog.dailydoseofds.com/p/build-an-ultimate-ai-assistant-using                               | Build an Ultimate AI Assistant using 6 MCP servers                              | 2025-07-29     |\n",
            "| https://blog.dailydoseofds.com/p/compare-qwen-3-coder-vs-sonnet-4                                   | Compare Qwen 3 Coder vs. Sonnet 4 for Code Generation                           | 2025-07-25     |\n",
            "| https://blog.dailydoseofds.com/p/hands-on-multimodal-rag-over-complex                               | [Hands-on] Multimodal RAG Over Complex Webpages                                 | 2025-03-11     |\n",
            "| https://blog.dailydoseofds.com/p/compare-openai-gpt-oss-and-qwen-3                                  | [Compare OpenAI gpt-oss and Qwen 3 on Maths & Reasoning                         | 2025-08-06     |\n",
            "| https://blog.dailydoseofds.com/p/build-a-multimodal-agentic-rag                                     | [Build a Multimodal Agentic RAG]                                                | 2025-08-05     |\n",
            "| https://blog.dailydoseofds.com/p/make-rag-systems-32x-memory-efficient                              | [Make RAG systems 32x Memory Efficient!]                                        | 2025-08-04     |\n",
            "| https://blog.dailydoseofds.com/p/pytorch-models-are-not-entirely-deployment                         | PyTorch Models Are Not Entirely Deployment-Friendly                             | 2024-01-31     |\n",
            "| https://blog.dailydoseofds.com/p/build-your-own-mcp-powered-chatgpt                                 | Build Your Own MCP-powered ChatGPT App                                          | 2025-05-03     |\n",
            "| https://blog.dailydoseofds.com/p/prompting-vs-rag-vs-finetuning                                     | Prompting vs. RAG vs. Finetuning                                                | 2024-11-08     |\n",
            "| https://blog.dailydoseofds.com/p/5-chunking-strategies-for-rag                                      | 5 Chunking Strategies For RAG                                                   | 2024-10-18     |\n",
            "| https://blog.dailydoseofds.com/p/9-mcp-projects-for-ai-engineers                                    | 9 MCP Projects for AI Engineers                                                 | 2024-06-10     |\n",
            "| https://blog.dailydoseofds.com/p/a-crash-course-on-building-rag-systems-c92                         | A Crash Course on Building RAG Systems – Part 2                                 | 2024-11-09     |\n",
            "| https://blog.dailydoseofds.com/p/is-your-model-data-deficient                                       | Is Your Model Data Deficient?                                                   | 2024-03-25     |\n",
            "| https://www.dailydoseofds.com/augmenting-llms-fine-tuning-or-rag/                                   | Augmenting LLMs: Fine-Tuning or RAG?                                            |                |\n",
            "| https://blog.dailydoseofds.com/p/federated-learning-an-overlooked                                   | Federated Learning: An Overlooked ML Technique That Deserves More Attention     | 2023-11-13     |\n",
            "| https://blog.dailydoseofds.com/p/guardrails-for-ai-agents                                           | Guardrails for AI Agents                                                        | 2025-04-10     |\n",
            "| https://blog.dailydoseofds.com/p/test-ai-agents-at-scale-with-maxim                                 | Test AI Agents at Scale With Maxim                                              | 2025-02-06     |\n",
            "| https://blog.dailydoseofds.com/p/9-rag-llm-and-ai-agent-cheat-sheets                                | 9 RAG, LLM, and AI Agent Cheat Sheets                                           | 2025-04-01     |\n",
            "| https://www.dailydoseofds.com/p/5-llm-fine-tuning-techniques/                                       | 5 techniques to fine-tune LLMs                                                  | 2025-04-01     |\n",
            "| https://www.dailydoseofds.com/p/kv-caching-in-llms-explained-visually/                              | KV caching                                                                      | 2025-04-01     |\n",
            "| https://www.dailydoseofds.com/a-crash-course-on-building-rag-systems-part-3-with-implementation/    | A Crash Course on Building RAG Systems – Part 3                                 | 2024-11-19     |\n",
            "| https://blog.dailydoseofds.com/p/hands-on-building-a-llama-ocr-app                                  | [Hands-on] Building a Llama-OCR app                                             | 2024-12-03     |\n",
            "| https://www.dailydoseofds.com/a-crash-course-on-building-rag-systems-part-1-with-implementations/   | RAG crash course Part 1                                                         | 2024-12-03     |\n",
            "| https://www.dailydoseofds.com/a-crash-course-on-building-rag-systems-part-2-with-implementations/   | RAG crash course Part 2                                                         | 2024-12-03     |\n",
            "| https://www.dailydoseofds.com/a-crash-course-on-building-rag-systems-part-3-with-implementation/    | RAG crash course Part 3                                                         | 2024-12-03     |\n",
            "| https://www.dailydoseofds.com/a-crash-course-on-building-rag-systems-part-4-with-implementation/    | RAG crash course Part 4                                                         | 2024-12-03     |\n",
            "| https://blog.dailydoseofds.com/p/building-a-multi-agent-internet-research                           | Building a Multi-agent Internet Research Assistant                              | 2024-10-30     |\n",
            "| https://www.comet.com/docs/opik/evaluation/metrics/g_eval                                           | Create eval metrics for LLM Apps in pure English                                | 2025-08-13     |\n",
            "| https://github.com/i-am-bee/acp                                                                     | Agent communication protocol (ACP)                                              | 2025-08-13     |\n",
            "| https://blog.dailydoseofds.com/p/build-a-multi-agent-research-assistant                             | Build A Multi-agent Research Assistant With SwarmZero                           | 2024-11-12     |\n",
            "| https://blog.dailydoseofds.com/p/10-mcp-ai-agents-and-rag-projects                                  | 10 MCP, AI Agents, and RAG projects for AI Engineers                            | 2025-04-14     |\n",
            "| https://www.dailydoseofds.com/p/mcp-powered-agentic-rag/                                            | MCP-powered Agentic RAG                                                         | 2025-04-14     |\n",
            "| https://www.dailydoseofds.com/p/rag-over-audio-files/                                               | RAG over audio                                                                  | 2025-04-14     |\n",
            "| https://www.dailydoseofds.com/p/hands-on-building-an-mcp-server/                                    | Build a local MCP server                                                        | 2025-04-14     |\n",
            "| https://github.com/patchy631/ai-engineering-hub/tree/main/llama-4-rag                               | RAG powered by Llama 4                                                          | 2025-04-14     |\n",
            "| https://www.dailydoseofds.com/p/multimodal-rag-using-deepseeks-janus/                               | Multimodal RAG powered by DeepSeek Janus                                        | 2025-04-14     |\n",
            "| https://www.dailydoseofds.com/p/building-a-100-local-mini-chatgpt/                                  | A mini-ChatGPT using DeepSeek-R1                                                | 2025-04-14     |\n",
            "| https://www.dailydoseofds.com/p/corrective-rag-agentic-workflow/                                    | Corrective RAG                                                                  | 2025-04-14     |\n",
            "| https://www.dailydoseofds.com/p/build-a-reasoning-model-like-deepseek-r1/                           | Build your reasoning model                                                      | 2025-04-14     |\n",
            "| https://github.com/patchy631/ai-engineering-hub/tree/main/DeepSeek-finetuning                       | Fine-tune DeepSeek-R1                                                           | 2025-04-14     |\n",
            "| https://blog.dailydoseofds.com/p/transfer-learning-vs-fine-tuning                                   | Transfer Learning vs. Fine-tuning vs. Multitask Learning vs. Federated Learning | 2023-11-07     |\n"
          ]
        }
      ]
    },
    {
      "cell_type": "code",
      "source": [],
      "metadata": {
        "id": "7BX2tOuqK-BZ"
      },
      "execution_count": null,
      "outputs": []
    }
  ]
}